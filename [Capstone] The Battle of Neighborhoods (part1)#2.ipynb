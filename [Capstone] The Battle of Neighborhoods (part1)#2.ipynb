{
 "cells": [
  {
   "cell_type": "markdown",
   "metadata": {},
   "source": [
    "# The Battle of Neighborhoods (part1) #2"
   ]
  },
  {
   "cell_type": "markdown",
   "metadata": {},
   "source": [
    "## Data Description"
   ]
  },
  {
   "cell_type": "markdown",
   "metadata": {},
   "source": [
    "I will be using the data below in order to solve the business problem.\n",
    "* Boroughs and neighborhood in Toronto includeing its latitude and longitude\n",
    "* Floating population data in each borough\n",
    "* Location of markets/farms\n",
    "* Average income of residents in each borough\n",
    "* Location of Universities \n",
    "* Proportion of race in each borough"
   ]
  },
  {
   "cell_type": "markdown",
   "metadata": {},
   "source": [
    "### How to use data to solve the problem"
   ]
  },
  {
   "cell_type": "markdown",
   "metadata": {},
   "source": [
    "I will collect data as follows:\n",
    "* Foursquare and geopy will be used to retreive geodata (latitude and longitude)\n",
    "* Address and geodata for markets/farms will be achieved by geopy and Nominatim\n",
    "* BeautifulSoup will be utilized for retriving data from URL (for floating population and avg income data)\n",
    "* Location of universities and proportion of race will be read through CSV file.\n",
    "\n",
    "#### Successful collection of the data will allow us to answer the following questions:\n",
    "* Which location has high floating population?\n",
    "* What would be the possible candidates in terms of borough?\n",
    "* What is the characteristics of residents in each borough?\n",
    "* What is the distance between our possible candidates and markets/farms for each borough?\n",
    "* Who is the possible competitor?"
   ]
  },
  {
   "cell_type": "code",
   "execution_count": null,
   "metadata": {},
   "outputs": [],
   "source": []
  }
 ],
 "metadata": {
  "kernelspec": {
   "display_name": "Python 3",
   "language": "python",
   "name": "python3"
  },
  "language_info": {
   "codemirror_mode": {
    "name": "ipython",
    "version": 3
   },
   "file_extension": ".py",
   "mimetype": "text/x-python",
   "name": "python",
   "nbconvert_exporter": "python",
   "pygments_lexer": "ipython3",
   "version": "3.7.6"
  }
 },
 "nbformat": 4,
 "nbformat_minor": 4
}
