{
 "cells": [
  {
   "cell_type": "markdown",
   "metadata": {},
   "source": [
    "# The Battle of Neighborhoods (part1)\n",
    "\n",
    "## Introduction/Business Problem"
   ]
  },
  {
   "cell_type": "markdown",
   "metadata": {},
   "source": [
    "### Background"
   ]
  },
  {
   "cell_type": "markdown",
   "metadata": {},
   "source": [
    "An international renowned, multi-Michelin starred chef Gordon Ramsey has opened a string of award-winning restaurants across the globe and now he is ready to open his new italian restaurant in Toronto. Looking for a perfect location for his new restaurant in Toronto, Gordon Ramsey asked me to use my data science knowledge to provide valuable insights and recommendation for his new restaurant. <br>\n",
    "He specifically wants to know:<br>\n",
    "* Floating population in Toronto\n",
    "* Restaurants that could be competitors to his new restaurant\n",
    "* Whether there are markets or farms near the location for affordable, quick and fresh ingredients\n",
    "* Average income of residents in each borough (because most of his foods are expensive)\n",
    "* Characteristics of residents in each borough (race, dining culture, etc...)\n",
    "* Whether there's school/university in each borough "
   ]
  },
  {
   "cell_type": "markdown",
   "metadata": {},
   "source": [
    "### Business Problem"
   ]
  },
  {
   "cell_type": "markdown",
   "metadata": {},
   "source": [
    "The challenge is finding a best location for Ramsey's new italian restaurent in Toronto. Such location should have high demand for Ramsey's luxurious dishes. In addition, it should be close enough to markets/farms for fresh and quick ingredients distribution to his restaurant. "
   ]
  },
  {
   "cell_type": "markdown",
   "metadata": {},
   "source": [
    "### Target Audience"
   ]
  },
  {
   "cell_type": "markdown",
   "metadata": {},
   "source": [
    "Beside my client Gordon Ramsey, the target audience would be the stakeholders and employees of Ramsey's food company. Anyone who are interested in food business also would be the target audience.  "
   ]
  },
  {
   "cell_type": "code",
   "execution_count": null,
   "metadata": {},
   "outputs": [],
   "source": []
  }
 ],
 "metadata": {
  "kernelspec": {
   "display_name": "Python 3",
   "language": "python",
   "name": "python3"
  },
  "language_info": {
   "codemirror_mode": {
    "name": "ipython",
    "version": 3
   },
   "file_extension": ".py",
   "mimetype": "text/x-python",
   "name": "python",
   "nbconvert_exporter": "python",
   "pygments_lexer": "ipython3",
   "version": "3.7.6"
  }
 },
 "nbformat": 4,
 "nbformat_minor": 4
}
